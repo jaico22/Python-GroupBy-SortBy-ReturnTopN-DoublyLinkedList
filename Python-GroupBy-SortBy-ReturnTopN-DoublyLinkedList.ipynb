{
 "cells": [
  {
   "cell_type": "markdown",
   "metadata": {},
   "source": [
    "# Overview\n",
    "Alright, so I was bored one night and had an interview comming up. \n",
    "A few months ago, a friend of mine raged about how shockingly few people were able to solve this problem durng interview:\n",
    "\n",
    "> Given a list of a class that contains 3 fields\n",
    ">\n",
    "> Group the list by one field, sort the list by another, and return the top n of each group\n",
    "\n",
    "The problem isn't difficult (though it's _plagued_ by ambiguity, which in my opinion makes this question a great interview question because it really lets you see how a candidate approaches an ambiguous problem--which in my opinion is incredibly valuable) but I found it to be a good excersize to get my mind back in \"interview mode\" and brush up on a bit of my python...\n",
    "\n",
    "_Note: I'm not a python expect--though I really like python. While I do my best to write clean code, I'm honestly not going to bother cleaning up code that will likely have no audience besides maybe a couple students looking up how to implement a doubly linked list in python_\n",
    "\n",
    "# Setting things up!\n",
    "I created a class called myData (great name, right?) which contains the three values as listed in the problem statement. \n",
    "I added implementations required for sorting to work as well...."
   ]
  },
  {
   "cell_type": "code",
   "execution_count": 73,
   "metadata": {},
   "outputs": [],
   "source": [
    "class myData :\n",
    "    def __init__(self, val_0, val_sort_by, val_group_by) :\n",
    "        self.val_0 = val_0\n",
    "        self.val_sort_by = val_sort_by\n",
    "        self.val_group_by = val_group_by\n",
    "        \n",
    "    def __gt__(self, other) :\n",
    "        return self.val_sort_by > other.val_sort_by\n",
    "    \n",
    "    def __lt__(self, other) : \n",
    "        return self.val_sort_by < other.val_sort_by\n",
    "    \n",
    "    def print(self) :\n",
    "        print(\"Group: \" + str(self.val_group_by) + \" Sort: \" + str(self.val_sort_by) + \" Val: \" + str(self.val_0))"
   ]
  },
  {
   "cell_type": "markdown",
   "metadata": {},
   "source": [
    "## Data Generation\n",
    "To generate my data, I used 4 groups consisting of 4000 random values each to be used for sorting. The third value doesn't matter with how I interpreted the problem statement"
   ]
  },
  {
   "cell_type": "code",
   "execution_count": 168,
   "metadata": {},
   "outputs": [],
   "source": [
    "import random\n",
    "\n",
    "data = list()\n",
    "for group in range(0,4) : \n",
    "    for sort_by in range(0,40000) : \n",
    "        data.append(myData(0,random.randint(0,10000000),group))\n",
    "            \n",
    "random.shuffle(data)"
   ]
  },
  {
   "cell_type": "markdown",
   "metadata": {},
   "source": [
    "# First Implementation : Dictionary of Lists\n",
    "Dictionaries are perfect fit to meet the grouping requirement.\n",
    "In this implementation, I create a dictionary where the key is the group value and each instance of myData is added into the list with it's corresponding group key.\n",
    "After the values are grouped, each list is sorted. \n",
    "\n",
    "While this method works, it's not very scalable. \n",
    "First, appending to the list has a constant time complexity O(1)\n",
    "However, sorting is a different story. The time complexity here is O(n log n) -- not good... "
   ]
  },
  {
   "cell_type": "code",
   "execution_count": 169,
   "metadata": {},
   "outputs": [
    {
     "name": "stdout",
     "output_type": "stream",
     "text": [
      "Execution Time: 0.9294300079345703\n"
     ]
    }
   ],
   "source": [
    "import time\n",
    "\n",
    "data_dictionary = {}\n",
    "\n",
    "start_time = time.time()\n",
    "for datum in data :\n",
    "    if datum.val_group_by not in data_dictionary :\n",
    "        data_dictionary[datum.val_group_by] = []\n",
    "    data_dictionary[datum.val_group_by].append(datum)\n",
    "\n",
    "# Slow way of sorting\n",
    "for key in data_dictionary : \n",
    "    data_dictionary[key].sort();\n",
    "\n",
    "end_time = time.time()\n",
    "print(\"Execution Time: \" + str(end_time - start_time))"
   ]
  },
  {
   "cell_type": "markdown",
   "metadata": {},
   "source": [
    "# Second Implementation : Doubly Linked List\n",
    "The obvious solution to make this run a bit faster is to be able to sort in place. To acheive this, I implemented a doubly linked list with pointers to the current node containing the maximum number and the current node containing the minimum number. \n",
    "With the use of these pointers, no searching is required, resulting in a linear time complexity to be acheived!"
   ]
  },
  {
   "cell_type": "code",
   "execution_count": 170,
   "metadata": {},
   "outputs": [],
   "source": [
    "class doubly_ll_node : \n",
    "    def __init__(self, next_node, prev_node, data):\n",
    "        self.next_node = next_node\n",
    "        self.prev_node = prev_node\n",
    "        self.data = data\n",
    "    \n",
    "    def AddPrevious(self, node) : \n",
    "        self.prev_node = node;\n",
    "    \n",
    "    def AddNext(self, node) :\n",
    "        self.next_node = node;\n",
    "        \n",
    "    def display(self) : \n",
    "        self.data.print()\n",
    "        if self.next_node is not None :\n",
    "            self.next_node.display()\n",
    "\n",
    "class doubly_ll :\n",
    "    def __init__(self) :\n",
    "        self.first_node = None\n",
    "        self.last_node = None\n",
    "        self.first_node_added = None \n",
    "        \n",
    "    def add(self, data) :\n",
    "        if self.first_node is None or data.val_sort_by < self.first_node.data.val_sort_by : \n",
    "            self.add_first(data)\n",
    "        elif self.last_node is None or data.val_sort_by >= self.last_node.data.val_sort_by :\n",
    "            self.add_last(data)\n",
    "        \n",
    "    def add_first(self, data):\n",
    "        if self.first_node is None :\n",
    "            if self.first_node_added is None : \n",
    "                self.first_node = doubly_ll_node(None, None, data)\n",
    "                self.first_node_added = self.first_node\n",
    "            else :\n",
    "                self.first_node = doubly_ll_node(self.first_node_added, None, data)\n",
    "                self.first_node_added.AddPrevious(self.first_node)\n",
    "        else :\n",
    "            new_node = doubly_ll_node(self.first_node,None, data)\n",
    "            self.first_node.AddPrevious(new_node);\n",
    "            self.first_node = new_node; \n",
    "    \n",
    "    def add_last(self, data):\n",
    "        if self.last_node is None :\n",
    "            if self.first_node_added is None : \n",
    "                self.last_node = doubly_ll_node(None, None, data)\n",
    "                self.first_node_added = self.last_node\n",
    "            else : \n",
    "                self.last_node = doubly_ll_node(None, self.first_node_added, data)\n",
    "                self.first_node_added.AddNext(self.last_node)\n",
    "                \n",
    "        else : \n",
    "            new_node = doubly_ll_node(None, self.last_node, data)\n",
    "            self.last_node.AddNext(new_node);\n",
    "            self.last_node = new_node\n",
    "            \n",
    "    def print_first_n(self, n) :\n",
    "        n_copy = n\n",
    "        node_to_print = self.first_node\n",
    "        while n_copy > 0 :\n",
    "            if node_to_print is None : \n",
    "                return\n",
    "            node_to_print.data.print()\n",
    "            node_to_print = node_to_print.next_node\n",
    "            n_copy = n_copy - 1\n",
    "    \n",
    "    def print(self) :\n",
    "        if self.first_node is None : \n",
    "            self.last_node.display()\n",
    "        else :\n",
    "            self.first_node.display()"
   ]
  },
  {
   "cell_type": "code",
   "execution_count": 172,
   "metadata": {},
   "outputs": [
    {
     "name": "stdout",
     "output_type": "stream",
     "text": [
      "Execution Time: 0.21318912506103516\n",
      "Group: 2 Sort: 81 Val: 0\n",
      "Group: 2 Sort: 532 Val: 0\n",
      "Group: 2 Sort: 1321 Val: 0\n",
      "Group: 0 Sort: 273 Val: 0\n",
      "Group: 0 Sort: 501 Val: 0\n",
      "Group: 0 Sort: 1049 Val: 0\n",
      "Group: 1 Sort: 203 Val: 0\n",
      "Group: 1 Sort: 331 Val: 0\n",
      "Group: 1 Sort: 4191 Val: 0\n",
      "Group: 3 Sort: 14 Val: 0\n",
      "Group: 3 Sort: 51 Val: 0\n",
      "Group: 3 Sort: 476 Val: 0\n"
     ]
    }
   ],
   "source": [
    "data_dictionary = {}\n",
    "\n",
    "start_time = time.time()\n",
    "for datum in data :\n",
    "    if datum.val_group_by not in data_dictionary :\n",
    "        data_dictionary[datum.val_group_by] = doubly_ll()\n",
    "    data_dictionary[datum.val_group_by].add(datum);\n",
    "\n",
    "end_time = time.time()\n",
    "print(\"Execution Time: \" + str(end_time - start_time))\n",
    "\n",
    "for key in data_dictionary : \n",
    "    data_dictionary[key].print_first_n(3)"
   ]
  },
  {
   "cell_type": "markdown",
   "metadata": {},
   "source": [
    "# O"
   ]
  }
 ],
 "metadata": {
  "kernelspec": {
   "display_name": "Python 3",
   "language": "python",
   "name": "python3"
  },
  "language_info": {
   "codemirror_mode": {
    "name": "ipython",
    "version": 3
   },
   "file_extension": ".py",
   "mimetype": "text/x-python",
   "name": "python",
   "nbconvert_exporter": "python",
   "pygments_lexer": "ipython3",
   "version": "3.7.0"
  }
 },
 "nbformat": 4,
 "nbformat_minor": 2
}
